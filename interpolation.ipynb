{
 "cells": [
  {
   "cell_type": "code",
   "execution_count": 1,
   "metadata": {},
   "outputs": [
    {
     "name": "stderr",
     "output_type": "stream",
     "text": [
      "WARNING (pytensor.configdefaults): g++ not available, if using conda: `conda install m2w64-toolchain`\n",
      "WARNING (pytensor.configdefaults): g++ not detected!  PyTensor will be unable to compile C-implementations and will default to Python. Performance may be severely degraded. To remove this warning, set PyTensor flags cxx to an empty string.\n",
      "WARNING (pytensor.tensor.blas): Using NumPy C-API based implementation for BLAS functions.\n"
     ]
    }
   ],
   "source": [
    "import numpy as np\n",
    "import pandas as pd\n",
    "import seaborn as sns\n",
    "import matplotlib.pyplot as plt\n",
    "import matplotlib.ticker as mticker\n",
    "from scipy.interpolate import interp1d\n",
    "import numpy as np\n",
    "import pymc as pm\n",
    "import arviz as az\n",
    "import matplotlib.pyplot as plt\n",
    "from matplotlib.ticker import ScalarFormatter\n"
   ]
  },
  {
   "cell_type": "code",
   "execution_count": 2,
   "metadata": {},
   "outputs": [
    {
     "data": {
      "text/html": [
       "<div>\n",
       "<style scoped>\n",
       "    .dataframe tbody tr th:only-of-type {\n",
       "        vertical-align: middle;\n",
       "    }\n",
       "\n",
       "    .dataframe tbody tr th {\n",
       "        vertical-align: top;\n",
       "    }\n",
       "\n",
       "    .dataframe thead th {\n",
       "        text-align: right;\n",
       "    }\n",
       "</style>\n",
       "<table border=\"1\" class=\"dataframe\">\n",
       "  <thead>\n",
       "    <tr style=\"text-align: right;\">\n",
       "      <th></th>\n",
       "      <th>name</th>\n",
       "      <th>task number</th>\n",
       "      <th>estimation 1</th>\n",
       "      <th>estimation 2</th>\n",
       "      <th>group</th>\n",
       "      <th>fst</th>\n",
       "    </tr>\n",
       "  </thead>\n",
       "  <tbody>\n",
       "    <tr>\n",
       "      <th>0</th>\n",
       "      <td>Pierre-Francois</td>\n",
       "      <td>Task 1</td>\n",
       "      <td>30.0</td>\n",
       "      <td>28.0</td>\n",
       "      <td>1</td>\n",
       "      <td>7</td>\n",
       "    </tr>\n",
       "    <tr>\n",
       "      <th>1</th>\n",
       "      <td>Jessica</td>\n",
       "      <td>Task 1</td>\n",
       "      <td>28.0</td>\n",
       "      <td>29.0</td>\n",
       "      <td>1</td>\n",
       "      <td>7</td>\n",
       "    </tr>\n",
       "    <tr>\n",
       "      <th>2</th>\n",
       "      <td>Adam</td>\n",
       "      <td>Task 1</td>\n",
       "      <td>35.0</td>\n",
       "      <td>28.0</td>\n",
       "      <td>1</td>\n",
       "      <td>7</td>\n",
       "    </tr>\n",
       "    <tr>\n",
       "      <th>3</th>\n",
       "      <td>Asher</td>\n",
       "      <td>Task 1</td>\n",
       "      <td>27.0</td>\n",
       "      <td>28.0</td>\n",
       "      <td>1</td>\n",
       "      <td>7</td>\n",
       "    </tr>\n",
       "    <tr>\n",
       "      <th>4</th>\n",
       "      <td>Omer</td>\n",
       "      <td>Task 1</td>\n",
       "      <td>25.5</td>\n",
       "      <td>25.5</td>\n",
       "      <td>2</td>\n",
       "      <td>7</td>\n",
       "    </tr>\n",
       "    <tr>\n",
       "      <th>5</th>\n",
       "      <td>Uttara</td>\n",
       "      <td>Task 1</td>\n",
       "      <td>NaN</td>\n",
       "      <td>30.0</td>\n",
       "      <td>2</td>\n",
       "      <td>7</td>\n",
       "    </tr>\n",
       "    <tr>\n",
       "      <th>6</th>\n",
       "      <td>Kamile</td>\n",
       "      <td>Task 1</td>\n",
       "      <td>25.0</td>\n",
       "      <td>25.5</td>\n",
       "      <td>2</td>\n",
       "      <td>7</td>\n",
       "    </tr>\n",
       "    <tr>\n",
       "      <th>7</th>\n",
       "      <td>Pierre-Francois</td>\n",
       "      <td>Task 2</td>\n",
       "      <td>55.0</td>\n",
       "      <td>45.0</td>\n",
       "      <td>1</td>\n",
       "      <td>42</td>\n",
       "    </tr>\n",
       "    <tr>\n",
       "      <th>8</th>\n",
       "      <td>Jessica</td>\n",
       "      <td>Task 2</td>\n",
       "      <td>40.0</td>\n",
       "      <td>41.0</td>\n",
       "      <td>1</td>\n",
       "      <td>42</td>\n",
       "    </tr>\n",
       "    <tr>\n",
       "      <th>9</th>\n",
       "      <td>Adam</td>\n",
       "      <td>Task 2</td>\n",
       "      <td>35.0</td>\n",
       "      <td>35.0</td>\n",
       "      <td>1</td>\n",
       "      <td>42</td>\n",
       "    </tr>\n",
       "  </tbody>\n",
       "</table>\n",
       "</div>"
      ],
      "text/plain": [
       "              name task number  estimation 1  estimation 2  group  fst\n",
       "0  Pierre-Francois      Task 1          30.0          28.0      1    7\n",
       "1          Jessica      Task 1          28.0          29.0      1    7\n",
       "2             Adam      Task 1          35.0          28.0      1    7\n",
       "3            Asher      Task 1          27.0          28.0      1    7\n",
       "4             Omer      Task 1          25.5          25.5      2    7\n",
       "5           Uttara      Task 1           NaN          30.0      2    7\n",
       "6           Kamile      Task 1          25.0          25.5      2    7\n",
       "7  Pierre-Francois      Task 2          55.0          45.0      1   42\n",
       "8          Jessica      Task 2          40.0          41.0      1   42\n",
       "9             Adam      Task 2          35.0          35.0      1   42"
      ]
     },
     "execution_count": 2,
     "metadata": {},
     "output_type": "execute_result"
    }
   ],
   "source": [
    "df1 = pd.read_csv(\"data/group1.csv\")\n",
    "#add a column to df1 with the value 1   \n",
    "df1[\"group\"] = 1\n",
    "df2 = pd.read_csv(\"data/group2_filtered.csv\")\n",
    "#add a column to df2 with the value 2\n",
    "df2[\"group\"] = 2\n",
    "#concatenate the two dataframes\n",
    "df = pd.concat([df1, df2], ignore_index=True)\n",
    "#sort the dataframe by the task number\n",
    "df = df.sort_values(by=\"task number\")\n",
    "#reset the index\n",
    "df = df.reset_index(drop=True)\n",
    "#get fst  value and add it in the right task number \n",
    "fst = pd.read_csv(\"data/fst.csv\")\n",
    "# Merge on 'task number'\n",
    "df = pd.merge(df, fst, on=\"task number\", how=\"left\")\n",
    "\n",
    "#print the dataframe\n",
    "df.head(10)"
   ]
  },
  {
   "cell_type": "code",
   "execution_count": 3,
   "metadata": {},
   "outputs": [
    {
     "name": "stdout",
     "output_type": "stream",
     "text": [
      "task number\n",
      "Task 1    27.714286\n",
      "Task 2    35.571429\n",
      "Task 3    35.400000\n",
      "Task 4    48.200000\n",
      "Task 5    58.200000\n",
      "Name: estimation 2, dtype: float64\n"
     ]
    }
   ],
   "source": [
    "avg_by_task = df.groupby(\"task number\")[\"estimation 2\"].mean()\n",
    "print(avg_by_task)"
   ]
  },
  {
   "cell_type": "markdown",
   "metadata": {},
   "source": [
    "- We used Bayesian inference with a monotonic constraint by parameterizing 𝑓 f as cumulative sums of nonnegative increments.\n",
    "- Each observed \n",
    "(\n",
    "𝑥\n",
    "𝑖\n",
    ",\n",
    "𝑦\n",
    "𝑖\n",
    ")\n",
    " enters the likelihood with a varying standard deviation (derived from the confidence interval).\n",
    "- The resulting posterior distribution of \n",
    "𝑓 respects monotonicity, while weighting points with smaller CI more strongly.\n",
    "- You can extend this idea to piecewise linear segments (if you want continuity between data points) or even a fully continuous monotonic spline. However, the core principle is always the same: nondecreasing increments + weighted likelihood for each data point."
   ]
  },
  {
   "cell_type": "code",
   "execution_count": 4,
   "metadata": {},
   "outputs": [
    {
     "name": "stdout",
     "output_type": "stream",
     "text": [
      "[  0   7  42 123 244 330]\n",
      "[25.         27.71428571 35.57142857 35.4        48.2        58.2       ]\n",
      "[1.00000000e-02 1.24434722e+00 6.01620035e+00 5.93203641e+00\n",
      " 1.22934350e+01 1.62620953e+01]\n"
     ]
    },
    {
     "name": "stderr",
     "output_type": "stream",
     "text": [
      "Initializing NUTS using jitter+adapt_diag...\n",
      "Multiprocess sampling (4 chains in 4 jobs)\n",
      "NUTS: [intercept, increments]\n"
     ]
    },
    {
     "data": {
      "application/vnd.jupyter.widget-view+json": {
       "model_id": "448506990c60411c9029365c626096e1",
       "version_major": 2,
       "version_minor": 0
      },
      "text/plain": [
       "Output()"
      ]
     },
     "metadata": {},
     "output_type": "display_data"
    },
    {
     "data": {
      "text/html": [
       "<pre style=\"white-space:pre;overflow-x:auto;line-height:normal;font-family:Menlo,'DejaVu Sans Mono',consolas,'Courier New',monospace\"></pre>\n"
      ],
      "text/plain": []
     },
     "metadata": {},
     "output_type": "display_data"
    },
    {
     "name": "stderr",
     "output_type": "stream",
     "text": [
      "Sampling 4 chains for 1_000 tune and 1_000 draw iterations (4_000 + 4_000 draws total) took 128 seconds.\n"
     ]
    }
   ],
   "source": [
    "\n",
    "\n",
    "# ---------------------------------\n",
    "# 1) Prepare data\n",
    "# ---------------------------------\n",
    "# Get unique task numbers and their corresponding fst values\n",
    "x = df['fst'].unique()\n",
    "# Calculate mean estimation 2 for each task\n",
    "y = df.groupby('task number')['estimation 2'].mean().values #add\n",
    "\n",
    "# Calculate confidence intervals\n",
    "ci = []\n",
    "for task in df['task number'].unique():\n",
    "    task_data = df[df['task number'] == task]['estimation 2']\n",
    "    std_err = task_data.std() / np.sqrt(len(task_data))\n",
    "    ci.append(1.96 * std_err)  # 95% confidence interval\n",
    "ci = np.array(ci)\n",
    "\n",
    "x = np.insert(x, 0, 0)  # Add 0 at the beginning\n",
    "y = np.insert(y, 0, 25)\n",
    "ci = np.insert(ci, 0, 0.01)\n",
    "\n",
    "print(x)\n",
    "print(y)\n",
    "print(ci)\n",
    "\n",
    "# For simplicity, let's approximate the standard deviation for each point.\n",
    "# If ci is half-width of a 95% CI, then roughly:\n",
    "#    95% CI = mean ± 1.96*sigma\n",
    "# => half-width ~ 1.96*sigma\n",
    "# => sigma ~ half-width / 1.96\n",
    "sigma = ci / 1.96\n",
    "\n",
    "# Ensure x is sorted. (It already is in this example.)\n",
    "# If it weren't sorted, we'd sort x,y,sigma together.\n",
    "\n",
    "# ---------------------------------\n",
    "# 2) Define a PyMC model\n",
    "# ---------------------------------\n",
    "with pm.Model() as monotonic_model:\n",
    "    # Intercept: f(x_0)\n",
    "    intercept = pm.Normal(\"intercept\", mu=0, sigma=100)\n",
    "    \n",
    "    # We have (n-1) increments for n points. Each increment >= 0 (HalfNormal ensures positivity).\n",
    "    increments = pm.HalfNormal(\"increments\", sigma=10, shape=len(x)-1)\n",
    "    \n",
    "    # f_vals[i] = intercept + sum(increments[:i])\n",
    "    # so f(x_0) = intercept\n",
    "    #    f(x_1) = intercept + increments[0]\n",
    "    #    f(x_2) = intercept + increments[0] + increments[1]\n",
    "    # ... and so on ...\n",
    "    f_vals = pm.Deterministic(\n",
    "        \"f_vals\",\n",
    "        intercept + pm.math.cumsum(pm.math.concatenate([[0], increments]))\n",
    "    )\n",
    "    \n",
    "    # Likelihood: each observed y_i ~ Normal(f_vals[i], sigma[i])\n",
    "    pm.Normal(\"obs\", mu=f_vals, sigma=sigma, observed=y)\n",
    "    \n",
    "    # ---------------------------------\n",
    "    # 3) Sample from the posterior\n",
    "    # ---------------------------------\n",
    "    trace = pm.sample(1000, tune=1000, target_accept=0.95, random_seed=42)\n"
   ]
  },
  {
   "cell_type": "code",
   "execution_count": 8,
   "metadata": {},
   "outputs": [
    {
     "data": {
      "image/png": "[encoded data removed]",
      "text/plain": [
       "<Figure size 800x600 with 1 Axes>"
      ]
     },
     "metadata": {},
     "output_type": "display_data"
    }
   ],
   "source": [
    "# # After sampling:\n",
    "# with monotonic_model:\n",
    "#     # Summaries of the posterior\n",
    "#     az.plot_trace(trace)\n",
    "#     plt.show()\n",
    "\n",
    "#     print(az.summary(trace, var_names=[\"intercept\", \"increments\", \"f_vals\"]))\n",
    "\n",
    "# Posterior predictive: compute f_vals for each sample\n",
    "sns.set_theme(style=\"whitegrid\", palette=\"Set2\")\n",
    "f_samples = trace.posterior[\"f_vals\"].values  # shape: (chain, draw, n_points)\n",
    "\n",
    "# Let's visualize the median and credible interval for the fitted monotonic function\n",
    "median_f = np.median(f_samples, axis=(0,1))   # median across all chains/draws\n",
    "lower_f = np.percentile(f_samples, 5, axis=(0,1))\n",
    "upper_f = np.percentile(f_samples, 95, axis=(0,1))\n",
    "\n",
    "plt.figure(figsize=(8,6))\n",
    "\n",
    "\n",
    "plt.errorbar(x, y, yerr=ci, fmt='o', label=\"Data + 95% CI\")\n",
    "plt.plot(x, median_f, label=\"Fitted median (monotonic)\", color=\"C1\")\n",
    "plt.fill_between(x, lower_f, upper_f, alpha=0.2, color=\"C1\",\n",
    "                 label=\"90% credible interval of fit\")\n",
    "\n",
    "plt.xlabel(\"Cybench First Solve Time\", labelpad=10)  # Added labelpad to move label down\n",
    "plt.ylabel(\"Probability estimate\")\n",
    "plt.title(\"Bayesian Monotonic Fit with Varying Confidence\")\n",
    "plt.legend(loc='upper left')\n",
    "\n",
    "# Format y-axis ticks to include % symbol\n",
    "plt.gca().yaxis.set_major_formatter(plt.FuncFormatter(lambda x, p: f\"{int(x)}%\"))\n",
    "plt.gca().xaxis.set_major_formatter(plt.FuncFormatter(lambda x, p: f\"{int(x)} min\"))\n",
    "\n",
    "#save the plot\n",
    "plt.savefig(\"interpolation_vizualisation.png\")\n",
    "\n",
    "\n",
    "plt.show()\n"
   ]
  }
 ],
 "metadata": {
  "kernelspec": {
   "display_name": "LAT",
   "language": "python",
   "name": "python3"
  },
  "language_info": {
   "codemirror_mode": {
    "name": "ipython",
    "version": 3
   },
   "file_extension": ".py",
   "mimetype": "text/x-python",
   "name": "python",
   "nbconvert_exporter": "python",
   "pygments_lexer": "ipython3",
   "version": "3.11.5"
  }
 },
 "nbformat": 4,
 "nbformat_minor": 2
}
